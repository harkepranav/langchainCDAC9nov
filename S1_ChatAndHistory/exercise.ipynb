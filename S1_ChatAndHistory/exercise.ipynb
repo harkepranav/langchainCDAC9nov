{
 "cells": [
  {
   "cell_type": "code",
   "execution_count": 13,
   "metadata": {},
   "outputs": [],
   "source": [
    "import os, configparser, random\n",
    "from langchain_groq import ChatGroq\n",
    "from langchain_cohere import ChatCohere\n",
    "from langchain_core.output_parsers import StrOutputParser\n",
    "from langchain_core.prompts import ChatPromptTemplate\n",
    "from langchain_core.runnables import RunnableSequence\n",
    "from langchain_core.prompts import ChatPromptTemplate \n",
    "from langchain_core.output_parsers import StrOutputParser\n",
    "from langchain_core.messages import HumanMessage, SystemMessage\n",
    "from langchain_core.chat_history import InMemoryChatMessageHistory\n",
    "from langchain_core.runnables.history import RunnableWithMessageHistory"
   ]
  },
  {
   "cell_type": "code",
   "execution_count": 4,
   "metadata": {},
   "outputs": [],
   "source": [
    "#Actor Picker\n",
    "def actor_picker():\n",
    "    actors = [\"Chris Evans\", \"Scarlett Johansson\", \"Hritik Roshan\", \"Emma Watson\", \"Tom Holland\", \"Akshay Kumar\", \"Srinidhi Shetty\", \"Ram Charan\"]\n",
    "    return random.choice(actors)\n"
   ]
  },
  {
   "cell_type": "code",
   "execution_count": 5,
   "metadata": {},
   "outputs": [],
   "source": [
    "#Location Picker\n",
    "def location_picker():\n",
    "    locations = [\"New York\", \"Mumbai\", \"Pune\", \"Solapur\", \"Los Angeles\", \"Washington DC\", \"Delhi\", \"SambhajiNagar\"]\n",
    "    return random.choice(locations)\n"
   ]
  },
  {
   "cell_type": "code",
   "execution_count": 6,
   "metadata": {},
   "outputs": [],
   "source": [
    "#Theme Picker\n",
    "def theme_picker():\n",
    "    themes = [\"Adventure\", \"Drama\", \"Thiller\", \"Horror\", \"Mystery\", \"Romance\", \"Science Fiction\"]\n",
    "    return random.choice(themes)\n"
   ]
  },
  {
   "cell_type": "code",
   "execution_count": 7,
   "metadata": {},
   "outputs": [],
   "source": [
    "#Configure and Use Cohere Model\n",
    "config = configparser.ConfigParser()\n",
    "config.read('../Config.ini')\n",
    "cohere = config['cohere']\n",
    "os.environ['COHERE_API_KEY'] = cohere.get('COHERE_API_KEY')\n",
    "\n",
    "\n",
    "def cohere_story_generator(actor, location, theme):\n",
    "    model = ChatCohere(model=\"command-r-plus\")\n",
    "    messages = [\n",
    "        SystemMessage(content=\"You are a storyteller who crafts immersive and vivid tales.\"),\n",
    "        HumanMessage(content=f\"Create a brief story with {actor} in {location} based on {theme} theme.\")\n",
    "        ]\n",
    "    response = model.invoke(messages)\n",
    "    return response.content.strip()"
   ]
  },
  {
   "cell_type": "code",
   "execution_count": 8,
   "metadata": {},
   "outputs": [],
   "source": [
    "#Configure and Use Groq Model\n",
    "config = configparser.ConfigParser()\n",
    "config.read('../Config.ini')\n",
    "groq = config['groq']\n",
    "os.environ['GROQ_API_KEY'] = groq.get('GROQ_API_KEY')\n",
    "\n",
    "\n",
    "def groq_story_generator(actor, location, theme):\n",
    "    model = ChatGroq(model=\"llama3-8b-8192\")\n",
    "    messages = [\n",
    "        SystemMessage(content=\"You are a storyteller who crafts immersive and vivid tales.\"),\n",
    "        HumanMessage(content=f\"Create a brief story with {actor} in {location} based on {theme} theme.\")\n",
    "        ]\n",
    "    response = model.invoke(messages)\n",
    "\n",
    "    return response.content.strip()"
   ]
  },
  {
   "cell_type": "code",
   "execution_count": 9,
   "metadata": {},
   "outputs": [
    {
     "name": "stdout",
     "output_type": "stream",
     "text": [
      "Selected Elements ==>\n",
      "Actor: Tom Holland\n",
      "Location: Solapur\n",
      "Theme: Romance\n",
      "==============================\n",
      "Story from Cohere Model ==>\n",
      "==============================\n",
      "Once upon a time, in the vibrant city of Solapur, India, a young and dashing Tom Holland found himself enchanted by a local beauty named Priya. Tom, known for his adventurous spirit, was in Solapur to film his latest action-packed movie. Little did he know that he was about to embark on a different kind of adventure—one that would capture his heart forever.\n",
      "\n",
      "As Tom explored the bustling streets of Solapur, he often found himself drawn to the local markets, where vibrant colors and aromatic spices filled the air. It was in one of these markets that he first laid eyes on Priya. She was a local artist, with dark, mysterious eyes and a smile that could light up the entire city. Tom felt an instant connection to her as if something magical was pulling them together.\n",
      "\n",
      "Day after day, Tom found excuses to return to the market, hoping to catch a glimpse of Priya. He loved how her eyes lit up when she talked about her art and the passion she exuded when showing him her latest paintings. They would spend hours talking, learning about each other's lives, dreams, and passions. Tom was captivated by Priya's intelligence, kindness, and the deep connection she seemed to have with the rich culture of Solapur.\n",
      "\n",
      "As the days turned into weeks, Tom and Priya's friendship blossomed into something more. They explored the city together, wandering through ancient temples, strolling along the picturesque Bhima River, and sharing delicious local cuisine. Tom was enamored with Priya and the unique world she introduced him to. He felt like he was seeing Solapur, and life itself, through fresh eyes—eyes filled with love.\n",
      "\n",
      "One evening, as the sun set over the city, Tom took Priya to a secluded rooftop overlooking the glowing skyline. Under the soft glow of fairy lights, he confessed his love for her. He spoke of how she had opened his eyes to the beauty of Solapur and how he felt alive in a way he never had before. Priya, her eyes sparkling with joy, confessed that she felt the same way. They shared their first kiss as the city lights twinkled around them, sealing their love forever.\n",
      "\n",
      "Tom Holland's time in Solapur was transformative, not just for his career but for his heart. He had found love in the most unexpected place, and it changed him forever. As he returned to his life of glamour and fame, he carried with him the memories of Solapur and the love he had found there. It was a love that would stay with him always, a reminder that true romance can be found in the most magical and unexpected places.\n",
      "==============================\n",
      "Story from Groq Model ==>\n",
      "==============================\n",
      "The sun was setting over the bustling streets of Solapur, casting a warm orange glow over the vibrant marketplaces and ancient temples. Tom Holland, dressed in a crisp white shirt and worn jeans, wandered through the crowds, his eyes scanning the stalls for a glimpse of the beautiful girl he had been searching for all day.\n",
      "\n",
      "Her name was Kavita, a stunning young woman with skin as dark as the night sky and hair as bright as the golden wheat fields that surrounded the city. Tom had met her just once, at a quaint little café on the outskirts of town, but he had been smitten. He had spent the past few days exploring the city, trying to find her again, but to no avail.\n",
      "\n",
      "As he turned a corner, he spotted her, her bright smile and sparkling eyes drawing him in like a magnet. She was laughing with a group of friends, her hair tied up in a colorful scarf, and Tom's heart skipped a beat.\n",
      "\n",
      "He approached her, his feet carrying him on autopilot, and introduced himself. Kavita's friends welcomed him warmly, and soon they were all chatting like old friends. Tom learned that Kavita was a local artist, her paintings depicting the vibrant colors and textures of Solapur's markets and temples.\n",
      "\n",
      "As the night wore on, Tom found himself lost in Kavita's eyes, the streets of Solapur fading into the background. They strolled along the river, the stars twinkling above, and Tom felt like he was floating on air.\n",
      "\n",
      "As the night drew to a close, Tom walked Kavita back to her home, a cozy little apartment above a bustling spice market. They stood outside, the scent of cardamom and cinnamon wafting through the air, and Tom took her hand.\n",
      "\n",
      "\"I've been searching for you all day,\" he whispered, his heart pounding in his chest.\n",
      "\n",
      "Kavita's eyes sparkled with amusement. \"And I've been waiting for you,\" she replied, her voice barely above a whisper.\n",
      "\n",
      "Tom's lips brushed against hers, and the world around them melted away. The stars twinkled above, the river flowed gently by, and Tom knew that he had found his own little slice of heaven in the bustling streets of Solapur.\n"
     ]
    }
   ],
   "source": [
    "actor = actor_picker()\n",
    "location = location_picker()\n",
    "theme = theme_picker()\n",
    "\n",
    "print(f\"Selected Elements ==>\")\n",
    "print(f\"Actor: {actor}\\nLocation: {location}\\nTheme: {theme}\")\n",
    "\n",
    "print(\"=\"*30)\n",
    "print(\"Story from Cohere Model ==>\")\n",
    "print(\"=\"*30)\n",
    "cohere_story = cohere_story_generator(actor, location, theme)\n",
    "print(cohere_story)\n",
    "\n",
    "print(\"=\"*30)\n",
    "print(\"Story from Groq Model ==>\")\n",
    "print(\"=\"*30)\n",
    "groq_story = groq_story_generator(actor, location, theme)\n",
    "print(groq_story)"
   ]
  },
  {
   "cell_type": "code",
   "execution_count": 10,
   "metadata": {},
   "outputs": [
    {
     "name": "stdout",
     "output_type": "stream",
     "text": [
      "Nice to meet you, Pranav! I'm GPT, your friendly AI assistant. How can I help you today? Do you have a specific topic you'd like to discuss or a question you'd like to ask? I'm all ears (or rather, all text)!\n"
     ]
    }
   ],
   "source": [
    "model = ChatGroq(model=\"llama3-8b-8192\")\n",
    "parser = StrOutputParser()\n",
    "\n",
    "chain = model | parser\n",
    "response = chain.invoke([HumanMessage(content=input(\"Enter Message: \"))])\n",
    "\n",
    "print(response)"
   ]
  },
  {
   "cell_type": "code",
   "execution_count": 11,
   "metadata": {},
   "outputs": [
    {
     "data": {
      "text/plain": [
       "\"Hello Pranav! It's nice to meet you. Is there something I can help you with or would you like to chat?\""
      ]
     },
     "execution_count": 11,
     "metadata": {},
     "output_type": "execute_result"
    }
   ],
   "source": [
    "chain = RunnableSequence(model, parser)\n",
    "chain.invoke([HumanMessage(content=input(\"Enter message: \"))])"
   ]
  },
  {
   "cell_type": "code",
   "execution_count": 14,
   "metadata": {},
   "outputs": [
    {
     "name": "stdout",
     "output_type": "stream",
     "text": [
      "Message retrieved from DB\n",
      "**The Unlikely Rise of Yash: From Struggle to Stardom**\n",
      "\n",
      "In a small town in Karnataka, India, a young boy named Naveen Kumar Gowda was born to a middle-class family. Little did anyone know that this boy would grow up to become one of the most iconic actors in Indian cinema, known as Yash.\n",
      "\n",
      "Growing up, Yash was a shy and introverted child who struggled to find his place in the world. His parents, who were both teachers, encouraged him to pursue his passion for acting, but it wasn't easy. Yash's early attempts to make it big in the film industry were met with rejection and disappointment.\n",
      "\n",
      "After completing his education, Yash moved to Bangalore to pursue a career in acting. He landed small roles in TV commercials and short films, but it was a struggle to make ends meet. He worked multiple jobs to support himself, including as a salesperson and a waiter, all while pursuing his acting dreams.\n",
      "\n",
      "Despite his best efforts, Yash faced rejection after rejection. He was repeatedly told that he wasn't good enough, that he didn't have the \"right look\" for leading roles, and that he should give up on his acting ambitions and focus on a \"stable\" job. The constant rejection took a toll on Yash's confidence, and he began to doubt his ability to make it in the industry.\n",
      "\n",
      "But Yash refused to give up. He continued to work hard, taking on small roles and odd jobs to make ends meet. He also began to write and direct his own short films, which gained some recognition in the local film festivals. Slowly but surely, Yash started to build a reputation as a talented and dedicated actor.\n",
      "\n",
      "The turning point came when Yash landed a small role in a Kannada film called \"Gajakesari\" in 2013. Although the film didn't do well at the box office, Yash's performance caught the attention of director Prashanth Neel, who was impressed by his raw talent and versatility.\n",
      "\n",
      "Neel offered Yash the lead role in his next film, \"Lucia\", a crime-thriller that would become a game-changer in Yash's career. Released in 2016, \"Lucia\" was a critical and commercial success, earning Yash his first major recognition as an actor.\n",
      "\n",
      "The success of \"Lucia\" led to a string of hit films, including \"KGF: Chapter 1\" (2018), which became a massive hit in India and abroad, grossing over ₹250 crore. Yash's portrayal of Rocky, a small-time smuggler who rises to become a powerful gangster, earned him widespread acclaim and numerous awards.\n",
      "\n",
      "Today, Yash is considered one of the most successful actors in Indian cinema, known for his intense performances and versatility. He has won numerous awards, including several Filmfare Awards, and has been recognized for his philanthropic work, particularly in the areas of education and healthcare.\n",
      "\n",
      "Yash's journey from struggle to stardom is a testament to his perseverance, hard work, and dedication. Despite facing numerous setbacks and rejections, he never gave up on his dreams, and his success is a inspiration to aspiring actors and filmmakers around the world.\n",
      "\n",
      "**Epilogue**\n",
      "\n",
      "As Yash looks back on his journey, he is reminded of the struggles he faced and the sacrifices he made. He knows that he is where he is today because of the support of his family, friends, and fans. And as he continues to make waves in the film industry, he is reminded of the power of perseverance and the importance of staying true to oneself.\n",
      "\n",
      "Yash's story is a reminder that success is not just about talent or luck, but about the willingness to put in the effort and take the risks necessary to achieve one's goals. It is a testament to the human spirit, which can overcome even the most daunting obstacles and emerge stronger and more resilient on the other side.\n",
      "Message retrieved from DB\n",
      "[HumanMessage(content='Generate story of struggle of kgf actor yash', additional_kwargs={}, response_metadata={}), SystemMessage(content='**The Unlikely Rise of Yash: From Struggle to Stardom**\\n\\nIn a small town in Karnataka, India, a young boy named Naveen Kumar Gowda was born to a middle-class family. Little did anyone know that this boy would grow up to become one of the most iconic actors in Indian cinema, known as Yash.\\n\\nGrowing up, Yash was a shy and introverted child who struggled to find his place in the world. His parents, who were both teachers, encouraged him to pursue his passion for acting, but it wasn\\'t easy. Yash\\'s early attempts to make it big in the film industry were met with rejection and disappointment.\\n\\nAfter completing his education, Yash moved to Bangalore to pursue a career in acting. He landed small roles in TV commercials and short films, but it was a struggle to make ends meet. He worked multiple jobs to support himself, including as a salesperson and a waiter, all while pursuing his acting dreams.\\n\\nDespite his best efforts, Yash faced rejection after rejection. He was repeatedly told that he wasn\\'t good enough, that he didn\\'t have the \"right look\" for leading roles, and that he should give up on his acting ambitions and focus on a \"stable\" job. The constant rejection took a toll on Yash\\'s confidence, and he began to doubt his ability to make it in the industry.\\n\\nBut Yash refused to give up. He continued to work hard, taking on small roles and odd jobs to make ends meet. He also began to write and direct his own short films, which gained some recognition in the local film festivals. Slowly but surely, Yash started to build a reputation as a talented and dedicated actor.\\n\\nThe turning point came when Yash landed a small role in a Kannada film called \"Gajakesari\" in 2013. Although the film didn\\'t do well at the box office, Yash\\'s performance caught the attention of director Prashanth Neel, who was impressed by his raw talent and versatility.\\n\\nNeel offered Yash the lead role in his next film, \"Lucia\", a crime-thriller that would become a game-changer in Yash\\'s career. Released in 2016, \"Lucia\" was a critical and commercial success, earning Yash his first major recognition as an actor.\\n\\nThe success of \"Lucia\" led to a string of hit films, including \"KGF: Chapter 1\" (2018), which became a massive hit in India and abroad, grossing over ₹250 crore. Yash\\'s portrayal of Rocky, a small-time smuggler who rises to become a powerful gangster, earned him widespread acclaim and numerous awards.\\n\\nToday, Yash is considered one of the most successful actors in Indian cinema, known for his intense performances and versatility. He has won numerous awards, including several Filmfare Awards, and has been recognized for his philanthropic work, particularly in the areas of education and healthcare.\\n\\nYash\\'s journey from struggle to stardom is a testament to his perseverance, hard work, and dedication. Despite facing numerous setbacks and rejections, he never gave up on his dreams, and his success is a inspiration to aspiring actors and filmmakers around the world.\\n\\n**Epilogue**\\n\\nAs Yash looks back on his journey, he is reminded of the struggles he faced and the sacrifices he made. He knows that he is where he is today because of the support of his family, friends, and fans. And as he continues to make waves in the film industry, he is reminded of the power of perseverance and the importance of staying true to oneself.\\n\\nYash\\'s story is a reminder that success is not just about talent or luck, but about the willingness to put in the effort and take the risks necessary to achieve one\\'s goals. It is a testament to the human spirit, which can overcome even the most daunting obstacles and emerge stronger and more resilient on the other side.', additional_kwargs={}, response_metadata={}), HumanMessage(content='Lets see if you know my name?', additional_kwargs={}, response_metadata={})]\n",
      "I think I do! You're the one and only Rocking Star Yash, the talented actor who has won millions of hearts with his incredible performances in films like KGF and others! Am I correct?\n"
     ]
    }
   ],
   "source": [
    "# import the chat history classes\n",
    "from langchain_core.chat_history import (BaseChatMessageHistory, InMemoryChatMessageHistory)\n",
    "import asyncio\n",
    "\n",
    "store = InMemoryChatMessageHistory()\n",
    "async def getMessage():\n",
    "    await asyncio.sleep(2)\n",
    "    print(\"Message retrieved from DB\")\n",
    "    return await store.aget_messages()\n",
    "\n",
    "\n",
    "store.add_message(HumanMessage(input(\"Enter message: \")))\n",
    "messages = await(getMessage())\n",
    "response = model.invoke(messages) \n",
    "print(response.content)\n",
    "\n",
    "store.add_message(SystemMessage(response.content))\n",
    "store.add_message(HumanMessage('Lets see if you know my name?'))\n",
    "\n",
    "messages = await(getMessage())\n",
    "print(messages) \n",
    "\n",
    "response = model.invoke(messages)\n",
    "print(response.content) "
   ]
  },
  {
   "cell_type": "code",
   "execution_count": null,
   "metadata": {},
   "outputs": [
    {
     "name": "stdout",
     "output_type": "stream",
     "text": [
      "This conversation has just started, so you haven't sent any messages yet! What would you like to talk about? I can summarize our conversation at the end if you'd like.\n",
      "In that case, your last message is indeed this one: \"this is my last message\".\n"
     ]
    }
   ],
   "source": [
    "store = {}\n",
    "\n",
    "def get_session_history(session_id: str) -> BaseChatMessageHistory:\n",
    "    if session_id not in store: \n",
    "        store[session_id] = InMemoryChatMessageHistory()\n",
    "    return store[session_id]\n",
    "config = {'configurable': {\"session_id\": \"abc2\"}}\n",
    "withHistory = RunnableWithMessageHistory(model, get_session_history)\n",
    "\n",
    "response = withHistory.invoke([HumanMessage(content=input(\"Enter message: \"))], config=config)\n",
    "\n",
    "print(response.content)\n",
    "\n",
    "response = withHistory.invoke(\n",
    "    [HumanMessage(content=input(\"Enter msg to check memory: \"))], config=config)\n",
    "\n",
    "print(response.content)"
   ]
  },
  {
   "cell_type": "code",
   "execution_count": 16,
   "metadata": {},
   "outputs": [
    {
     "name": "stdout",
     "output_type": "stream",
     "text": [
      "I see what you did there! You're asking me to repeat what I said earlier, which is that your last message is indeed this one: \"this is my last message\".\n",
      "It looks like you're trying to ask me something without typing any text!\n"
     ]
    }
   ],
   "source": [
    "withHistory = RunnableWithMessageHistory(model, get_session_history)\n",
    "response = withHistory.invoke([HumanMessage(content=input(\"Enter message: \"))], config=config)\n",
    "\n",
    "print(response.content) \n",
    "\n",
    "response = withHistory.invoke(\n",
    "    [HumanMessage(content=input(\"Enter msg to check memory: \"))], config=config\n",
    ")\n",
    "\n",
    "print(response.content)"
   ]
  },
  {
   "cell_type": "code",
   "execution_count": null,
   "metadata": {},
   "outputs": [],
   "source": [
    "while True:\n",
    "    response = withHistory.invoke(\n",
    "        [HumanMessage(content=input(\"Enter msg to check memory: \"))], config=config\n",
    "    )\n",
    "\n",
    "    print(response.content)"
   ]
  },
  {
   "cell_type": "code",
   "execution_count": null,
   "metadata": {},
   "outputs": [],
   "source": []
  }
 ],
 "metadata": {
  "kernelspec": {
   "display_name": "Python 3",
   "language": "python",
   "name": "python3"
  },
  "language_info": {
   "codemirror_mode": {
    "name": "ipython",
    "version": 3
   },
   "file_extension": ".py",
   "mimetype": "text/x-python",
   "name": "python",
   "nbconvert_exporter": "python",
   "pygments_lexer": "ipython3",
   "version": "3.12.1"
  }
 },
 "nbformat": 4,
 "nbformat_minor": 2
}
